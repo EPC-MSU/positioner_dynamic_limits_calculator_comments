{
 "cells": [
  {
   "cell_type": "markdown",
   "id": "a9fc996c-772c-4910-98e2-704a882b7154",
   "metadata": {},
   "source": [
    "# Тест для реализации DeductorBase\n",
    "\n",
    "Тестируются базовые функции вывода и доступа аттрибутов"
   ]
  },
  {
   "cell_type": "code",
   "execution_count": null,
   "id": "181edba7-fcac-4a3b-93d0-37366d7ffb77",
   "metadata": {},
   "outputs": [],
   "source": [
    "from deductor import DerivateRule, BaseAttribute, AliasAttribute, DerivedAttribute, ScaledAliasAttribute, Validator, DeductorBase\n",
    "\n",
    "vars = {'a':1, 'b':2, 'c':3}\n",
    "rule1 = DerivateRule('d', lambda a, b, c: a+b-c)\n",
    "rule2 = DerivateRule('d', lambda a, b, c: a+b-c, ('c','b','a'))\n",
    "print(rule1, rule2)\n",
    "print(rule1(vars), rule2(vars))\n",
    "\n",
    "a = BaseAttribute('a', 'A', 'A-value')\n",
    "b = AliasAttribute('b', 'a')\n",
    "c = DerivedAttribute('c', 'A', 'A+B-value', lambda a,b: a+b)\n",
    "c2 = ScaledAliasAttribute('c2', 2.0, 'c', 'A', '2c-value')\n",
    "print(a)\n",
    "print(b)\n",
    "print(c)\n",
    "print(c2)\n",
    "\n",
    "class S(DeductorBase):\n",
    "    _ATTRIBUTES = [a, b, c, c2]\n",
    "    \n",
    "s = S(a = 1)\n",
    "print(s.to_string('all'))\n",
    "print(s.to_string('base'))\n",
    "\n",
    "print(S.attributes)\n",
    "print(S.get_attributes_by_group('base'))\n",
    "print(S.get_attribute_by_name('b').desc)\n",
    "\n",
    "v = Validator(lambda a, d: a > d, 'a must be greater then d')\n",
    "print(v)\n",
    "class K(S):\n",
    "    _ATTRIBUTES = [ BaseAttribute('d', 'D', 'D-value') ]\n",
    "    _VALIDATORS = [v]\n",
    "k = K(a = 2, d = 1, validate=True)\n",
    "print(k.to_string('all'))\n",
    "try:\n",
    "    k = K(a = 1, d = 2, validate=True)\n",
    "except ValueError as e:\n",
    "    print(e)"
   ]
  },
  {
   "cell_type": "code",
   "execution_count": null,
   "id": "09fc799f-e1de-46bc-b6ae-70eda2b5444a",
   "metadata": {},
   "outputs": [],
   "source": []
  },
  {
   "cell_type": "code",
   "execution_count": null,
   "id": "57889382-54dc-4522-b56d-7109a06d77d5",
   "metadata": {},
   "outputs": [],
   "source": []
  }
 ],
 "metadata": {
  "kernelspec": {
   "display_name": "Python 3 (ipykernel)",
   "language": "python",
   "name": "python3"
  },
  "language_info": {
   "codemirror_mode": {
    "name": "ipython",
    "version": 3
   },
   "file_extension": ".py",
   "mimetype": "text/x-python",
   "name": "python",
   "nbconvert_exporter": "python",
   "pygments_lexer": "ipython3",
   "version": "3.11.2"
  }
 },
 "nbformat": 4,
 "nbformat_minor": 5
}
